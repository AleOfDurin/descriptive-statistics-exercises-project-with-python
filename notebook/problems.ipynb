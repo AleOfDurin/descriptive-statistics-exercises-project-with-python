{
    "cells": [
        {
            "cell_type": "markdown",
            "id": "ac622319",
            "metadata": {},
            "source": [
                "# Descriptive statistics problems"
            ]
        },
        {
            "cell_type": "markdown",
            "id": "5e0ab0d5",
            "metadata": {},
            "source": [
                "### Exercise 1\n",
                "\n",
                "We will use NumPy to obtain information to describe statistically.\n",
                "\n",
                "- Generate an array of 100 elements following a normal distribution.\n",
                "- Generate an array of 100 elements following a chi-square distribution with 3 degrees of freedom.\n",
                "- Calculate the main metrics and statistical measures that best describe the two vectors."
            ]
        },
        {
            "cell_type": "code",
            "execution_count": 1,
            "id": "34720ab6",
            "metadata": {},
            "outputs": [
                {
                    "name": "stdout",
                    "output_type": "stream",
                    "text": [
                        "Normal Distribution Statistics:\n",
                        "mean: -0.0083\n",
                        "median: 0.0451\n",
                        "std_dev: 0.8691\n",
                        "variance: 0.7553\n",
                        "min: -2.0967\n",
                        "max: 1.9487\n",
                        "skewness: -0.2122\n",
                        "\n",
                        "Chi-Square Distribution Statistics:\n",
                        "mean: 2.9310\n",
                        "median: 2.1773\n",
                        "std_dev: 2.3628\n",
                        "variance: 5.5827\n",
                        "min: 0.0483\n",
                        "max: 10.4721\n",
                        "skewness: 1.2505\n"
                    ]
                }
            ],
            "source": [
                "import numpy as np\n",
                "from scipy.stats import skew\n",
                "\n",
                "\n",
                "normal_array = np.random.normal(0, 1, 100)\n",
                "chi_square_array = np.random.chisquare(3, 100)\n",
                "\n",
                "def compute_statistics(arr):\n",
                "    return {\n",
                "        'mean': np.mean(arr),\n",
                "        'median': np.median(arr),\n",
                "        'std_dev': np.std(arr),\n",
                "        'variance': np.var(arr),\n",
                "        'min': np.min(arr),\n",
                "        'max': np.max(arr),\n",
                "        'skewness': skew(arr)\n",
                "    }\n",
                "\n",
                "print(\"Normal Distribution Statistics:\")\n",
                "for key, value in compute_statistics(normal_array).items():\n",
                "    print(f\"{key}: {value:.4f}\")\n",
                "\n",
                "print(\"\\nChi-Square Distribution Statistics:\")\n",
                "for key, value in compute_statistics(chi_square_array).items():\n",
                "    print(f\"{key}: {value:.4f}\")"
            ]
        },
        {
            "cell_type": "markdown",
            "id": "46c70c3d",
            "metadata": {},
            "source": [
                "### Exercise 2\n",
                "\n",
                "Write a Python program to calculate the standard deviation of the following data:\n",
                "\n",
                "```py\n",
                "data = [4, 2, 5, 8, 6]\n",
                "```"
            ]
        },
        {
            "cell_type": "code",
            "execution_count": 1,
            "id": "d590308e",
            "metadata": {},
            "outputs": [
                {
                    "data": {
                        "text/plain": [
                            "2.0"
                        ]
                    },
                    "execution_count": 1,
                    "metadata": {},
                    "output_type": "execute_result"
                }
            ],
            "source": [
                "import math\n",
                "\n",
                "data = [4, 2, 5, 8, 6]\n",
                "mean = sum(data) / len(data)\n",
                "\n",
                "squared_diff = [(x - mean) ** 2 for x in data]\n",
                "\n",
                "variance = sum(squared_diff) / len(data)\n",
                "\n",
                "std_dev = math.sqrt(variance)\n",
                "\n",
                "std_dev"
            ]
        }
    ],
    "metadata": {
        "interpreter": {
            "hash": "9248718ffe6ce6938b217e69dbcc175ea21f4c6b28a317e96c05334edae734bb"
        },
        "kernelspec": {
            "display_name": "Python 3.9.12 ('ML-BOOTCAMP')",
            "language": "python",
            "name": "python3"
        },
        "language_info": {
            "codemirror_mode": {
                "name": "ipython",
                "version": 3
            },
            "file_extension": ".py",
            "mimetype": "text/x-python",
            "name": "python",
            "nbconvert_exporter": "python",
            "pygments_lexer": "ipython3",
            "version": "3.11.4"
        }
    },
    "nbformat": 4,
    "nbformat_minor": 5
}
